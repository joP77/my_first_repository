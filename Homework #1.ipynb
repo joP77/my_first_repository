{
 "cells": [
  {
   "cell_type": "markdown",
   "metadata": {},
   "source": [
    "# HOMEWORK #1 \n",
    "### Joanna Patsalis"
   ]
  },
  {
   "cell_type": "markdown",
   "metadata": {},
   "source": [
    "## Q1: Describe and explain what each of these expressions produces in basic Python:\n",
    "\n",
    "- 2+5 : This adds 2 and 5 \n",
    "- 2 + 5 : This also adds 2 and 5\n",
    "- 2*5 : This multiplies 2 and 5\n",
    "- 2/5 : This divides 2 by 5\n",
    "- 2**5 : This is 2 to the power to 5\n",
    "\n",
    "***"
   ]
  },
  {
   "cell_type": "markdown",
   "metadata": {},
   "source": [
    "## Q2: What is the value of x after running these statements in order? Why?\n",
    "- x = 7 : the value of x is 7\n",
    "- x = x + 3 : the new value of x becomes 7 plus 3, which is 10\n",
    "\n",
    "---"
   ]
  },
  {
   "cell_type": "markdown",
   "metadata": {},
   "source": [
    "## Q3: What is the value of y after running these statements in order? Of x? Why?\n",
    "\n",
    "- x = 3\n",
    "- y = x\n",
    "- x = 10\n",
    "\n",
    "The value of y is equal to 3 which is the first value of x. Python is running this in the order the statements are written and does not get updated when x changes value. x new value is 10.\n",
    "\n",
    "---"
   ]
  },
  {
   "cell_type": "markdown",
   "metadata": {},
   "source": [
    "## Q4: Does this code run without error? If so, what does it produce? If not, explain why.\n",
    "\n",
    "x = 3\n",
    "\n",
    "x = x/2\n",
    "\n",
    "y = 'abc'\n",
    "\n",
    "z = y + y\n",
    "\n",
    "print(x, z)\n",
    "\n",
    "Yes the code runs. The code starts with x as an integer. When it gets divided by 2, it becomes a float. y on the other hand is a string and z is twice the value of y. Finally, the code prints the value of x, which is 1.5, next to the value of z, which is abcabc. The final answer is: 1.5 abcabc\n",
    "\n",
    "---"
   ]
  },
  {
   "cell_type": "markdown",
   "metadata": {},
   "source": [
    "## Q5: Does this code run without error? If so, what does it produce? If not, explain why.\n",
    "\n",
    "x = 3\n",
    "\n",
    "x = x/2\n",
    "\n",
    "y = 'abc'\n",
    "\n",
    "z = x + y\n",
    "\n",
    "print(x, z)\n",
    "\n",
    "The code cannot run because x is a float (1.5) and y is a string (abc) and these cannot be added together. You need to have the same type of objects in order to add them\n",
    "\n",
    "---"
   ]
  },
  {
   "cell_type": "markdown",
   "metadata": {},
   "source": [
    "## Q6: Does this code run without error? If so, what does it produce? If not, explain why.\n",
    "\n",
    "x = 3\n",
    "\n",
    "y = 24\n",
    "\n",
    "z = y / x\n",
    "\n",
    "print(x, y, z, sep=' | ')\n",
    "\n",
    "Yes the code runs. x and y are both integers. z divides the value of y with the value of x, which produces 8. Then it prints the 3 different values seperated with' | '. The final answer would be: 3 | 24 | 8.0\n",
    "\n",
    "---"
   ]
  },
  {
   "cell_type": "markdown",
   "metadata": {},
   "source": [
    "## Q7: Does this code run without error? If so, what does it produce? If not, explain why.\n",
    "\n",
    "x = 3\n",
    "\n",
    "y = ’24’\n",
    "\n",
    "z = y / x\n",
    "\n",
    "print(x, z)\n",
    "\n",
    "The code cannot run. x is an integer. Although we know that 24 is an integer the code reads it as a string because of the quotes: ''. Hence, z cannot divide a string with an integer. Equations need to have have the same type of objects.\n",
    "\n",
    "---"
   ]
  },
  {
   "cell_type": "markdown",
   "metadata": {},
   "source": [
    "## Q8: Does this code run without error? If so, what does it produce? If not, explain why.\n",
    "\n",
    "x = \"I am a #string\" # Whoa, a string!\n",
    "\n",
    "Yes, the code runs. x becomes a string that says \"I am a #string\". The sentence that comes after the # becomes a comment, is not part of the code and it will not run.\n",
    "\n",
    "---"
   ]
  },
  {
   "cell_type": "markdown",
   "metadata": {},
   "source": [
    "## Q9: Does this code run without error? If so, what does it produce? If not, explain why.\n",
    "\n",
    "x = [1, 2, 3]\n",
    "\n",
    "y = [42, 43]\n",
    "\n",
    "z = x + y\n",
    "\n",
    "print(z)\n",
    "\n",
    "Yes, the code runs. x and y are lists with integers. z adds the 2 lists together. The code produces one list that includes all the integers together. The answer is: [1, 2, 3, 42, 43]\n",
    "\n",
    "---"
   ]
  },
  {
   "cell_type": "markdown",
   "metadata": {},
   "source": [
    "## Q10: Does this code run without error? If so, what does it produce? If not, explain why.\n",
    "\n",
    "x = [1, 2, 3]\n",
    "\n",
    "y = 42\n",
    "\n",
    "z = x + y\n",
    "\n",
    "No, the code cannot run because x is a list of integers and y is an integer. Hence, z cannot add 2 diffrerent objects together. They both need to be strings or integers.\n",
    "\n",
    "---"
   ]
  },
  {
   "cell_type": "markdown",
   "metadata": {},
   "source": [
    "## Q11: What “types” are\n",
    "\n",
    "- x1 = 12 : this is an integer\n",
    "- x2 = 12.0  : this is a float\n",
    "- x3 = ’12.0’ : this is a string\n",
    "- x4 = [12]  : this is a list\n",
    "- x5 = [12, 12.0, ’12.0’]  : this is a list\n",
    "\n",
    "---"
   ]
  },
  {
   "cell_type": "markdown",
   "metadata": {},
   "source": [
    "## Q12: Explain the result of each line:\n",
    "\n",
    "- type(42) : will give the result int which means this is an integer\n",
    "- type(42.0) : will give the result float which means this is a fraction\n",
    "- type(’42.0’) : will give the result str which means this is a string\n",
    "- type(\"42.0\") : will give the result str which means this is a string (both '' and \"\" can be used in strings)\n",
    "- type(\"\"\"42.0\"\"\") : will give the result str which means this is a string\n",
    "- type([1, 2]) : will give you the result list that includes 2 numbers\n",
    "- type([1] + [2]) : will give you the result list that adds the 2 lists together\n",
    "- type(1 + 2) : will give you the result integer. The 2 integers (1 and 2) are added together producing an integer\n",
    "- type(print) : will give you the result: builtin_function_or_method\n",
    "\n",
    "---"
   ]
  },
  {
   "cell_type": "markdown",
   "metadata": {},
   "source": [
    "## Q13: Describe and explain the result of this statement:\n",
    "\n",
    "- type(float(str(int(’1234’))))\n",
    "\n",
    "The result is  the type of object: float. It starts with the string '1234', becomes an integer by typing  int('1234'), then becomes a string by typing str(int('1234')), then becomes a float by typing float(str(int('1234'))). The final result states the type of the object.\n",
    "\n",
    "---"
   ]
  },
  {
   "cell_type": "markdown",
   "metadata": {},
   "source": [
    "## Q14: Describe and explain the result of this statement:\n",
    "\n",
    "- type(int(float('12.34')))\n",
    "\n",
    "The result is the type of object: integer. It starts with the string '12.34', becomes a float by typing float('12.34'), then becomes an integer by typing int(float('12.34')). The final result states the type of the object.\n",
    "\n",
    "---"
   ]
  },
  {
   "cell_type": "markdown",
   "metadata": {},
   "source": [
    "## Q15: Explain each line:\n",
    "\n",
    "- len([1234]) : the length of the list is 1\n",
    "- len(\"1234\") : the length of the string is 4 because it has 4 characters\n",
    "- len(1234) : the integer has no length \n",
    "\n",
    "---"
   ]
  },
  {
   "cell_type": "markdown",
   "metadata": {},
   "source": [
    "## Q16: What are the type and length of x = []?\n",
    "\n",
    "We first need to define x by typing x=[]. \n",
    "To find the length we can write len(x) which is 0. To find the type we can write type(x) which is a list.\n",
    "\n",
    "---"
   ]
  },
  {
   "cell_type": "markdown",
   "metadata": {},
   "source": [
    "## Q17: Convert the string x = ’abcde’ to a list. What does it look like?\n",
    "\n",
    "We can achive this by defining x first x='abcde' and then change the type by typing [x]. To confirm that this works we can chech by type([x])\n",
    "\n",
    "---"
   ]
  },
  {
   "cell_type": "markdown",
   "metadata": {},
   "source": [
    "## Q18: Consider the integer x = 1234.\n",
    "\n",
    "a. Convert x to a floating point number.\n",
    "\n",
    "         x=1234\n",
    "         float(x)\n",
    "    Result: 1234.0\n",
    "    \n",
    "b. Convert x to a string.\n",
    "\n",
    "        x=1234\n",
    "        str(x)\n",
    "    Result: '1234'\n",
    "\n",
    "c. Convert x to the list  [’1’, ’2’, ’3’, ’4’].\n",
    "\n",
    "        x=1234\n",
    "        x=str(x)\n",
    "        list(x)\n",
    "    Result: [’1’, ’2’, ’3’, ’4’]\n",
    "    \n",
    "----"
   ]
  },
  {
   "cell_type": "markdown",
   "metadata": {},
   "source": [
    "## Q19: How would you convert x to “title case” (first letter of each word capitalized)?\n",
    "\n",
    "        x = \"luke, i am your father\"\n",
    "        x.title()\n",
    "    Result: 'Luke, I Am Your Father'\n",
    "\n",
    "---"
   ]
  },
  {
   "cell_type": "markdown",
   "metadata": {},
   "source": [
    "## Q20: \n",
    "Consider the string    x = \"How many characters and words are in this string?\"\n",
    "\n",
    "a. How many characters does x contain?\n",
    "    \n",
    "        len(x)\n",
    "    Result: 49\n",
    "\n",
    "b. Convert x to a list of individual characters.\n",
    "\n",
    "        list(x)\n",
    "    Result: ['H', 'o', 'w',' ','m','a', 'n', 'y', ' ', 'c', 'h', 'a', 'r', 'a', 'c', 't', 'e','r', 's', ' ', 'a', 'n', 'd', ' ', 'w', 'o', 'r', 'd', 's', ' ', 'a', 'r', 'e', ' ', 'i', 'n', ' ', 't', 'h', 'i', 's', ' ', 's', 't', 'r', 'i', 'n', 'g','?']\n",
    " \n",
    "c. Convert x to a list of individual words. Hint: Use tab completion to find a method that\n",
    "splits x into pieces.\n",
    "\n",
    "        x.split()\n",
    "    Result: ['How', 'many', 'characters', 'and', 'words', 'are', 'in', 'this', 'string?']\n",
    "\n",
    "d. How many words does x contain?\n",
    "\n",
    "    x= x.split()\n",
    "    len(x)\n",
    "    Result: 9\n",
    "    \n",
    " ----"
   ]
  },
  {
   "cell_type": "markdown",
   "metadata": {},
   "source": [
    "## Q21: A csv file has been created and added to my repository.\n",
    "\n",
    "---"
   ]
  }
 ],
 "metadata": {
  "kernelspec": {
   "display_name": "Python 3",
   "language": "python",
   "name": "python3"
  },
  "language_info": {
   "codemirror_mode": {
    "name": "ipython",
    "version": 3
   },
   "file_extension": ".py",
   "mimetype": "text/x-python",
   "name": "python",
   "nbconvert_exporter": "python",
   "pygments_lexer": "ipython3",
   "version": "3.6.5"
  }
 },
 "nbformat": 4,
 "nbformat_minor": 2
}
